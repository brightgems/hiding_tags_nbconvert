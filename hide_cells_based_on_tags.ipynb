{
 "cells": [
  {
   "cell_type": "markdown",
   "metadata": {
    "deletable": true,
    "editable": true
   },
   "source": [
    "This is a notebook and associated template that allows you to filter cells, input and output by adding the `tags: ['jupyter:hide_cell', 'jupyter:hide_input', 'jupyter:hide_output']` values(respectively) to cell metadata.\n",
    "\n",
    "It is based on http://www.damian.oquanta.info/posts/mimic-the-ipython-notebook-cell-execution.html which focused instead on just filtering output.  \n",
    "\n",
    "If you can see a bunch of checked checkmarks on the left, then don't fear, there's a lot more text here that will explain what's going on."
   ]
  },
  {
   "cell_type": "markdown",
   "metadata": {
    "deletable": true,
    "editable": true
   },
   "source": [
    "We'll do this entirely with CSS rather than relying on javascript. \n",
    "\n",
    "This is at the cost of uniform animation smoothness. But it's still useful to see how this approach works."
   ]
  },
  {
   "cell_type": "code",
   "execution_count": 2,
   "metadata": {
    "collapsed": false,
    "deletable": true,
    "editable": true,
    "tags": [
     "jupyter:hide_cell"
    ]
   },
   "outputs": [
    {
     "name": "stdout",
     "output_type": "stream",
     "text": [
      "{%- extends 'full.tpl' -%}\r\n",
      "\r\n"
     ]
    }
   ],
   "source": [
    "!sed -n 1,2p toggle_hidden.tpl"
   ]
  },
  {
   "cell_type": "markdown",
   "metadata": {
    "deletable": true,
    "editable": true,
    "tags": [
     "jupyter:hide_cell"
    ]
   },
   "source": [
    "This declares which template we are extending, `full.tpl` which can be found in `nbconvert.templates.html`.\n",
    "\n",
    "Next, we need to declare the wrapper div that will hold the original contents of the cell (invoked via `{{super()}}` and our checkbox that we'll be put off to the side of it. \n",
    "\n",
    "We'll be specifying that kind of placement information through the CSS calls, right now we just need to describe how we're going to change the DOM structure so we can manipulate it safely using CSS selectors.\n",
    "\n",
    "Note that the checkboxes default to being checked."
   ]
  },
  {
   "cell_type": "code",
   "execution_count": 10,
   "metadata": {
    "collapsed": false,
    "deletable": true,
    "editable": true,
    "tags": [
     "jupyter:hide_input"
    ]
   },
   "outputs": [
    {
     "name": "stdout",
     "output_type": "stream",
     "text": [
      "{%- block any_cell -%}\r\n",
      "{%- if 'hidden' in cell.metadata.get(\"tags\",[]) -%}\r\n"
     ]
    }
   ],
   "source": [
    "!sed -n 3,4p toggle_hidden.tpl"
   ]
  },
  {
   "cell_type": "markdown",
   "metadata": {
    "deletable": true,
    "editable": true,
    "tags": [
     "jupyter:hide_cell"
    ]
   },
   "source": [
    "Here, we're looking every cell individually at the specific level of the cell. \n",
    "\n",
    "For each cell, we inspect its metadata. NB: you can view and edit directly by going (inside the notebook) to View → Cell Toolbar → Edit Metadata, which will bring up a toolbar above each cell that looks vaguely like this:\n",
    "\n",
    "![ScreenShot2016-10-12at19.20.34.png](attachment://ScreenShot2016-10-12at19.20.34.png)\n",
    "\n",
    "Now, cell tagging is supported via the existence and population of the `\"tags\":[]` object in the metadata JSON. \n",
    "\n",
    "In the long run, having a better interface for applying and removing tags will be needed, but for now, if you want to test this, you'll need to edit the metadata by hand. \n",
    "\n",
    "We'll use this to enter the case for hiding a cell(`jupyter:hide_cell`) vs. hiding output(`jupyter:hide_output`) or hiding input(`jupyter:hide_input`). Note, right now that means you can only apply one of these tags at a time. Even if you include both, the `elif` will just skip over them."
   ]
  },
  {
   "cell_type": "code",
   "execution_count": 16,
   "metadata": {
    "collapsed": false,
    "deletable": true,
    "editable": true
   },
   "outputs": [
    {
     "name": "stdout",
     "output_type": "stream",
     "text": [
      "    <div class=\"hidden_cell\">\r\n",
      "    <input class=\"hide_cell\" type=\"checkbox\" checked></input>\r\n",
      "        {{super() }}\r\n",
      "    </div>\r\n",
      "{%- elif 'hide_output' in cell.metadata.get(\"tags\",[]) -%}\r\n",
      "    <div class=\"hide_output_cell\">\r\n",
      "    <input class=\"hide_output\" type=\"checkbox\" checked></input>\r\n",
      "        {{super() }}\r\n",
      "    </div>\r\n",
      "{%- elif 'hide_input' in cell.metadata.get(\"tags\",[]) -%}\r\n",
      "    <div class=\"hide_input_cell\">\r\n",
      "    <input class=\"hide_input\" type=\"checkbox\" checked></input>\r\n",
      "        {{super() }}\r\n",
      "    </div>\r\n",
      "{%- else -%}\r\n",
      "    {{ super() }}\r\n",
      "{%- endif -%}\r\n",
      "{%- endblock any_cell -%}\r\n",
      "\r\n"
     ]
    }
   ],
   "source": [
    "!sed -n 5,23p toggle_hidden.tpl"
   ]
  },
  {
   "cell_type": "markdown",
   "metadata": {
    "deletable": true,
    "editable": true,
    "tags": [
     "jupyter:hide_input"
    ]
   },
   "source": [
    "We add a `<div>` to wrap the checkbox and the cell contents (called via `super()`). \n",
    "\n",
    "The checkbox is an `<input>` element, which carries its identity as a checkbox in the attribute `type=\"checkbox\"` along with the default value of `checked` (note it is not assigned to an attribute). \n",
    "\n",
    "All the `if`/`elif` logic just specifies what to do depending on which tag is present – i.e., whether hiding is going to be applying to the entire cell, the output, or the input – as they will require slightly different transformations. \n",
    "\n",
    "If a cell has no tag that matches our set of hiding tags, then the template just acts as a pass through. Note that  if you don't include `super()` it will replace the cell contents with nothing. \n",
    "\n",
    "Next comes the CSS and that's where the magic happens, so I'll break it up a bit."
   ]
  },
  {
   "cell_type": "code",
   "execution_count": 34,
   "metadata": {
    "collapsed": false,
    "deletable": true,
    "editable": true,
    "tags": [
     "jupyter:hide_output"
    ]
   },
   "outputs": [
    {
     "name": "stdout",
     "output_type": "stream",
     "text": [
      "\r\n",
      "{%- block header -%}\r\n",
      "{{ super() }}\r\n",
      "\r\n",
      "<style type=\"text/css\">\r\n",
      "\r\n",
      ":root{\r\n",
      "--in-time: .5s;\r\n",
      "--out-time: .5s;\r\n",
      "}\r\n",
      "\r\n",
      "div.hidden_cell > div.cell{\r\n",
      "    transition: max-height var(--in-time) ease-in, padding .0s step-end;\r\n",
      "    max-height: 5000px;\r\n",
      "}\r\n",
      "\r\n",
      "div.hide_output_cell  div.output_wrapper{\r\n",
      "    transition: max-height var(--in-time) ease-in-out, padding .0s step-end;\r\n",
      "    max-height: 5000px;\r\n",
      "}\r\n",
      "\r\n",
      "div.hide_input_cell  div.input{\r\n",
      "    transition: max-height var(--in-time) ease-in-out, padding .0s step-end;\r\n",
      "    max-height: 5000px;\r\n",
      "}\r\n"
     ]
    }
   ],
   "source": [
    "!sed -n 24,48p toggle_hidden.tpl"
   ]
  },
  {
   "cell_type": "markdown",
   "metadata": {
    "deletable": true,
    "editable": true,
    "tags": [
     "jupyter:hide_output"
    ]
   },
   "source": [
    "So we begin by adding to our header block the CSS that we need. \n",
    "\n",
    "This begins with declaring our CSS variables\n",
    "\n",
    "Note how much code repeitition this requires. But that's essentially because we're more or less overlaying a namespace onto the Dom that we can use to filter and apply changes in only some locations.\n",
    "\n",
    "Note that in one case (the cell level) we're specifically targeting the immediate child of the wrapper div using the immediate child selector `<`, whereas in the case with input and output filtering, we need to use a more general descendant selector (the space ` `) because we'll be only applying this fairly far down the hierarchy.\n",
    "\n",
    "Why take this approach at all? Well, this allows us to easily have access to the cell level metadata. Accessing it otherwise would be somewhat tricky.\n",
    "\n",
    "We "
   ]
  },
  {
   "cell_type": "code",
   "execution_count": 31,
   "metadata": {
    "collapsed": false,
    "deletable": true,
    "editable": true
   },
   "outputs": [
    {
     "name": "stdout",
     "output_type": "stream",
     "text": [
      "}\r\n",
      "\r\n",
      "div.hide_output_cell  div.output_wrapper{\r\n",
      "    --in-time: .5s;\r\n",
      "    transition: max-height var(--in-time) ease-in-out, padding .0s step-end;\r\n",
      "    max-height: 5000px;\r\n",
      "}\r\n",
      "\r\n",
      "div.hide_input_cell  div.input{\r\n",
      "    --in-time: .5s;\r\n",
      "    transition: max-height var(--in-time) ease-in-out, padding .0s step-end;\r\n",
      "    max-height: 5000px;\r\n",
      "}\r\n",
      "\r\n",
      "div.hidden_cell, div.hide_output_cell, div.hide_input_cell{ display: flex; }\r\n",
      "\r\n"
     ]
    }
   ],
   "source": [
    "!sed -n 33,48p toggle_hidden.tpl"
   ]
  },
  {
   "cell_type": "markdown",
   "metadata": {
    "deletable": true,
    "editable": true
   },
   "source": [
    "Now… all of it together gives us:"
   ]
  },
  {
   "cell_type": "code",
   "execution_count": 27,
   "metadata": {
    "collapsed": false,
    "deletable": true,
    "editable": true,
    "tags": [
     "jupyter:hide_output"
    ]
   },
   "outputs": [
    {
     "name": "stdout",
     "output_type": "stream",
     "text": [
      "     1\t{%- extends 'full.tpl' -%}\r\n",
      "     2\t\r\n",
      "     3\t{%- block any_cell -%}\r\n",
      "     4\t{%- if 'hidden' in cell.metadata.get(\"tags\",[]) -%}\r\n",
      "     5\t    <div class=\"hidden_cell\">\r\n",
      "     6\t    <input class=\"hide_cell\" type=\"checkbox\" checked></input>\r\n",
      "     7\t        {{super() }}\r\n",
      "     8\t    </div>\r\n",
      "     9\t{%- elif 'hide_output' in cell.metadata.get(\"tags\",[]) -%}\r\n",
      "    10\t    <div class=\"hide_output_cell\">\r\n",
      "    11\t    <input class=\"hide_output\" type=\"checkbox\" checked></input>\r\n",
      "    12\t        {{super() }}\r\n",
      "    13\t    </div>\r\n",
      "    14\t{%- elif 'hide_input' in cell.metadata.get(\"tags\",[]) -%}\r\n",
      "    15\t    <div class=\"hide_input_cell\">\r\n",
      "    16\t    <input class=\"hide_input\" type=\"checkbox\" checked></input>\r\n",
      "    17\t        {{super() }}\r\n",
      "    18\t    </div>\r\n",
      "    19\t{%- else -%}\r\n",
      "    20\t    {{ super() }}\r\n",
      "    21\t{%- endif -%}\r\n",
      "    22\t{%- endblock any_cell -%}\r\n",
      "    23\t\r\n",
      "    24\t\r\n",
      "    25\t{%- block header -%}\r\n",
      "    26\t{{ super() }}\r\n",
      "    27\t\r\n",
      "    28\t<style type=\"text/css\">\r\n",
      "    29\tdiv.hidden_cell > div.cell{\r\n",
      "    30\t    --in-time: .5s;\r\n",
      "    31\t    transition: max-height var(--in-time) ease-in, padding .0s step-end;\r\n",
      "    32\t    max-height: 5000px;\r\n",
      "    33\t}\r\n",
      "    34\t\r\n",
      "    35\tdiv.hide_output_cell  div.output_wrapper{\r\n",
      "    36\t    --in-time: .5s;\r\n",
      "    37\t    transition: max-height var(--in-time) ease-in-out, padding .0s step-end;\r\n",
      "    38\t    max-height: 5000px;\r\n",
      "    39\t}\r\n",
      "    40\t\r\n",
      "    41\tdiv.hide_input_cell  div.input{\r\n",
      "    42\t    --in-time: .5s;\r\n",
      "    43\t    transition: max-height var(--in-time) ease-in-out, padding .0s step-end;\r\n",
      "    44\t    max-height: 5000px;\r\n",
      "    45\t}\r\n",
      "    46\t\r\n",
      "    47\tdiv.hidden_cell, div.hide_output_cell, div.hide_input_cell{ display: flex; }\r\n",
      "    48\t\r\n",
      "    49\tinput[type=checkbox]{ align-self:center; }\r\n",
      "    50\t\r\n",
      "    51\tinput[type=checkbox].hide_cell:checked + div{\r\n",
      "    52\t    overflow:hidden;\r\n",
      "    53\t    max-height:0px;\r\n",
      "    54\t    --out-time: .5s;\r\n",
      "    55\t    transition: max-height var(--out-time) cubic-bezier(0, 0.67, 0.36, 1), padding var(--out-time) step-end;\r\n",
      "    56\t    padding:0px;\r\n",
      "    57\t}\r\n",
      "    58\t\r\n",
      "    59\tinput[type=checkbox].hide_output:checked  + div div.output_wrapper{\r\n",
      "    60\t    overflow:hidden;\r\n",
      "    61\t    max-height:0px;\r\n",
      "    62\t    --out-time: .5s;\r\n",
      "    63\t    transition: max-height var(--out-time) cubic-bezier(0, 0.67, 0.36, 1), padding var(--out-time) step-end;\r\n",
      "    64\t    padding:0px;\r\n",
      "    65\t}\r\n",
      "    66\t\r\n",
      "    67\tinput[type=checkbox].hide_input:checked  + div div.input{\r\n",
      "    68\t    overflow:hidden;\r\n",
      "    69\t    max-height:0px;\r\n",
      "    70\t    --out-time: .5s;\r\n",
      "    71\t    transition: max-height var(--out-time) cubic-bezier(0, 0.67, 0.36, 1), padding var(--out-time) step-end;\r\n",
      "    72\t    padding:0px;\r\n",
      "    73\t}\r\n",
      "    74\t\r\n",
      "    75\t</style>\r\n",
      "    76\t{%- endblock header -%}\r\n"
     ]
    }
   ],
   "source": [
    "!cat -n toggle_hidden.tpl"
   ]
  },
  {
   "cell_type": "markdown",
   "metadata": {
    "deletable": true,
    "editable": true
   },
   "source": [
    "Then it is just a matter of including the `.tpl` in a location that nbconvert searches when it looks for templates and then including it in a command with the `--template toggle_hidden` flag when calling `jupyter nbconvert`.\n",
    "\n",
    "For example, if you wanted to transform `the_most_hidden_notebook_ever.ipynb` (a notebook equipped with cell hiding tags) to html so using this template and immediately open it in a webpage, you would go to the command line and input: \n",
    "\n",
    "`jupyter nbconvert the_most_hidden_notebook_ever.ipynb --to html --template toggle_hidden --post serve`"
   ]
  },
  {
   "cell_type": "code",
   "execution_count": null,
   "metadata": {
    "collapsed": true,
    "deletable": true,
    "editable": true
   },
   "outputs": [],
   "source": []
  }
 ],
 "metadata": {
  "celltoolbar": "Attachments",
  "kernelspec": {
   "display_name": "Python 3",
   "language": "python",
   "name": "python3"
  },
  "language_info": {
   "codemirror_mode": {
    "name": "ipython",
    "version": 3
   },
   "file_extension": ".py",
   "mimetype": "text/x-python",
   "name": "python",
   "nbconvert_exporter": "python",
   "pygments_lexer": "ipython3",
   "version": "3.5.2"
  }
 },
 "nbformat": 4,
 "nbformat_minor": 1
}
