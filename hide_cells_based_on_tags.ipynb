{
 "cells": [
  {
   "cell_type": "markdown",
   "metadata": {
    "deletable": true,
    "editable": true
   },
   "source": [
    "This is a notebook and associated template that allows you to filter output from entire cells by adding the `tags: ['hidden']` value to cell metadata.\n",
    "\n",
    "It is based on http://www.damian.oquanta.info/posts/mimic-the-ipython-notebook-cell-execution.html which focused instead on just filtering output.  \n",
    "\n",
    "If you can see a bunch of checked checkmarks on the left, then don't fear, there's a lot more text here that will explain what's going on."
   ]
  },
  {
   "cell_type": "markdown",
   "metadata": {
    "deletable": true,
    "editable": true
   },
   "source": [
    "We'll do this entirely with CSS rather than relying on javascript. \n",
    "\n",
    "This is at the cost of uniform animation smoothness. But it's still useful to see how to do it."
   ]
  },
  {
   "cell_type": "code",
   "execution_count": 2,
   "metadata": {
    "collapsed": false,
    "deletable": true,
    "editable": true,
    "tags": [
     "hidden"
    ]
   },
   "outputs": [
    {
     "name": "stdout",
     "output_type": "stream",
     "text": [
      "{%- extends 'full.tpl' -%}\r\n",
      "\r\n"
     ]
    }
   ],
   "source": [
    "!sed -n 1,2p toggle_hidden.tpl"
   ]
  },
  {
   "cell_type": "markdown",
   "metadata": {
    "deletable": true,
    "editable": true,
    "tags": [
     "hidden"
    ]
   },
   "source": [
    "This declares which template we are extending, `full.tpl` which can be found in `nbconvert.templates.html`.\n",
    "\n",
    "Next, we need to declare the wrapper div that will hold the original contents of the cell (invoked via `{{super()}}` and our checkbox that we'll be put off to the side of it. \n",
    "\n",
    "We'll be specifying that kind of placement information through the CSS calls, right now we just need to describe how we're going to change the DOM structure so we can manipulate it safely using CSS selectors.\n",
    "\n",
    "Note that the checkboxes default to being checked."
   ]
  },
  {
   "cell_type": "code",
   "execution_count": 9,
   "metadata": {
    "collapsed": false,
    "deletable": true,
    "editable": true,
    "tags": [
     "hide_input"
    ]
   },
   "outputs": [
    {
     "name": "stdout",
     "output_type": "stream",
     "text": [
      "{%- block any_cell -%}\r\n",
      "{%- if 'hidden' in cell.metadata.get(\"tags\",[]) -%}\r\n",
      "    <div class=\"hidden_cell\">\r\n",
      "    <input class=\"hide_cell\" type=\"checkbox\" checked></input>\r\n",
      "        {{super() }}\r\n",
      "    </div>\r\n"
     ]
    }
   ],
   "source": [
    "!sed -n 3,8p toggle_hidden.tpl"
   ]
  },
  {
   "cell_type": "markdown",
   "metadata": {
    "deletable": true,
    "editable": true,
    "tags": [
     "hide_input"
    ]
   },
   "source": [
    "We add a div to wrap the cell and the checkbox. \n",
    "\n",
    "We had to *rewrite* the `output_group` block to encompass it with a new `output_hidden`-classed `div`, which we would use in a simple **Javascript** function later.\n",
    "\n",
    "Second, we needed to write that little **Javascript** snippet:"
   ]
  },
  {
   "cell_type": "code",
   "execution_count": 6,
   "metadata": {
    "collapsed": false,
    "deletable": true,
    "editable": true,
    "tags": [
     "hide_output"
    ]
   },
   "outputs": [
    {
     "name": "stdout",
     "output_type": "stream",
     "text": [
      "{%- block header -%}\r\n",
      "{{ super() }}\r\n",
      "\r\n",
      "<style type=\"text/css\">\r\n",
      "div.hidden_cell > div.cell{\r\n"
     ]
    }
   ],
   "source": [
    "!sed -n 25,29p toggle_hidden.tpl"
   ]
  },
  {
   "cell_type": "markdown",
   "metadata": {
    "deletable": true,
    "editable": true,
    "tags": [
     "hide_output"
    ]
   },
   "source": [
    "Here, we used the `.slideToggle()` method to display or hide the `output_hidden`-classed `div` elements (with a nice sliding motion) when the user makes a click on the input cells. We was using **jQuery**, so we needed to load **jQquery**, ie. using the following line:\n",
    "\n",
    "`<script src=\"//ajax.googleapis.com/ajax/libs/jquery/1.10.2/jquery.min.js\"></script>`\n",
    "\n",
    "Finally, we added some css to make the `output_hidden-classed div` not visible (hidden by default):"
   ]
  },
  {
   "cell_type": "code",
   "execution_count": 3,
   "metadata": {
    "collapsed": false,
    "deletable": true,
    "editable": true
   },
   "outputs": [
    {
     "name": "stdout",
     "output_type": "stream",
     "text": [
      ".output_hidden {\r\n",
      "  display: none;\r\n",
      "  margin-top: 5px;\r\n",
      "}\r\n"
     ]
    }
   ],
   "source": [
    "!sed -n 18,21p /media/datos/Ejemplos/toggle.tpl"
   ]
  },
  {
   "cell_type": "markdown",
   "metadata": {
    "deletable": true,
    "editable": true
   },
   "source": [
    "If you put all these snippets together, you will get the following template:"
   ]
  },
  {
   "cell_type": "code",
   "execution_count": 4,
   "metadata": {
    "collapsed": false,
    "deletable": true,
    "editable": true,
    "tags": [
     "hide_output"
    ]
   },
   "outputs": [
    {
     "name": "stdout",
     "output_type": "stream",
     "text": [
      "     1\t{%- extends 'html_full.tpl' -%}\r\n",
      "     2\t\r\n",
      "     3\t{% block output_group %}\r\n",
      "     4\t<div class=\"output_hidden\">\r\n",
      "     5\t{{ super() }}\r\n",
      "     6\t</div>\r\n",
      "     7\t{% endblock output_group %}\r\n",
      "     8\t\r\n",
      "     9\t{%- block header -%}\r\n",
      "    10\t{{ super() }}\r\n",
      "    11\t\r\n",
      "    12\t<script src=\"//ajax.googleapis.com/ajax/libs/jquery/1.10.2/jquery.min.js\"></script>\r\n",
      "    13\t\r\n",
      "    14\t<style type=\"text/css\">\r\n",
      "    15\tdiv.output_wrapper {\r\n",
      "    16\t  margin-top: 0px;\r\n",
      "    17\t}\r\n",
      "    18\t.output_hidden {\r\n",
      "    19\t  display: none;\r\n",
      "    20\t  margin-top: 5px;\r\n",
      "    21\t}\r\n",
      "    22\t</style>\r\n",
      "    23\t\r\n",
      "    24\t<script>\r\n",
      "    25\t$(document).ready(function(){\r\n",
      "    26\t  $(\".input\").click(function(){\r\n",
      "    27\t      $(this).next('.output_hidden').slideToggle();\r\n",
      "    28\t  });\r\n",
      "    29\t})\r\n",
      "    30\t</script>\r\n",
      "    31\t{%- endblock header -%}\r\n",
      "    32\t\r\n"
     ]
    }
   ],
   "source": [
    "!cat -n /media/datos/Ejemplos/toggle.tpl"
   ]
  },
  {
   "cell_type": "markdown",
   "metadata": {
    "deletable": true,
    "editable": true
   },
   "source": [
    "To use it, just add `--template toggle` to your `ipython nbconvert` call, ie:\n",
    "\n",
    "`ipython nbconvert your_notebook.ipynb --to html --template toggle --post serve`\n",
    "\n",
    "or add the `toggle.tpl` file to you **IPython** nbconvert config file.\n",
    "\n",
    "If you are reading this line, you probably have already experienced the demo in this post (btw, I like to do demos explaining the tools with the tools themselves).\n",
    "\n",
    "Obviously, I quickly implemented this functionality inside **Nikola** and, as a consequence, in **Nikola** master, you now have the possibility to pass an **IPython** config `dict` to your **Nikola** `conf.py` file, making the *ipynb* plugin for **Nikola** more powerful than before ;-)\n",
    "\n",
    "To conclude, the possibility to mimic the **IPython** notebook execution is very useful for introductory courses and to publish content in a shorter but more interactive way.\n",
    "\n",
    "Hope you enjoy it!\n",
    "\n",
    "Damián"
   ]
  }
 ],
 "metadata": {
  "celltoolbar": "Edit Metadata",
  "kernelspec": {
   "display_name": "Python 3",
   "language": "python",
   "name": "python3"
  },
  "language_info": {
   "codemirror_mode": {
    "name": "ipython",
    "version": 3
   },
   "file_extension": ".py",
   "mimetype": "text/x-python",
   "name": "python",
   "nbconvert_exporter": "python",
   "pygments_lexer": "ipython3",
   "version": "3.5.2"
  }
 },
 "nbformat": 4,
 "nbformat_minor": 1
}
